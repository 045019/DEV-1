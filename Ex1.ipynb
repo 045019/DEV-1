{
  "nbformat": 4,
  "nbformat_minor": 0,
  "metadata": {
    "colab": {
      "provenance": []
    },
    "kernelspec": {
      "name": "python3",
      "display_name": "Python 3"
    },
    "language_info": {
      "name": "python"
    }
  },
  "cells": [
    {
      "cell_type": "code",
      "execution_count": 1,
      "metadata": {
        "colab": {
          "base_uri": "https://localhost:8080/"
        },
        "id": "J2jBqPjb1NwF",
        "outputId": "f9222127-7f82-4fa4-9e6e-e79537d20faf"
      },
      "outputs": [
        {
          "output_type": "stream",
          "name": "stdout",
          "text": [
            "Number of Unique Letters = 5\n",
            "{'a': 3, 'n': 2, 'c': 1, 'o': 1, 'd': 1}\n"
          ]
        }
      ],
      "source": [
        "#Task1:\n",
        "word = \"Anaconda\"\n",
        "word = word.lower()  # Converting word to lowercase; removing case sensitivity\n",
        "\n",
        "l_count = {}  # Initializing an empty dictionary <- storing letter frequencies\n",
        "\n",
        "for letter in word:\n",
        "    if letter.isalpha():  # Checking if the character is a letter\n",
        "        if letter in l_count:\n",
        "            l_count[letter] += 1\n",
        "        else:\n",
        "            l_count[letter] = 1\n",
        "\n",
        "# Calculating no. of unique letters\n",
        "unil_count = len(l_count)\n",
        "\n",
        "# O/P:\n",
        "print(f\"Number of Unique Letters = {unil_count}\")\n",
        "print(l_count)\n"
      ]
    },
    {
      "cell_type": "code",
      "source": [
        "#Task2:\n",
        "import random\n",
        "\n",
        "# Generating random scores component-wise\n",
        "classtest = random.randint(10, 90)\n",
        "midterm = random.randint(10, 90)\n",
        "project = random.randint(10, 90)\n",
        "endterm = random.randint(10, 90)\n",
        "\n",
        "# Calculating weighted evaluation scores\n",
        "eval = (\n",
        "    0.10 * classtest\n",
        "    + 0.20 * midterm\n",
        "    + 0.30 * project\n",
        "    + 0.40 * endterm\n",
        " )\n",
        "\n",
        "# Rounding-off evaluation score to nearest integer\n",
        "eval = round(eval)\n",
        "\n",
        "# Printing random scores & evaluation score\n",
        "print(f\"Class Test Score: {classtest}\")\n",
        "print(f\"Mid Term Score: {midterm}\")\n",
        "print(f\"Project Score: {project}\")\n",
        "print(f\"End Term Score: {endterm}\")\n",
        "print(f\"Evaluation Score (Rounded): {eval}\")"
      ],
      "metadata": {
        "colab": {
          "base_uri": "https://localhost:8080/"
        },
        "id": "vCZEdKx12KVf",
        "outputId": "46fa4a8f-3f80-4852-e083-ba7343449a84"
      },
      "execution_count": 3,
      "outputs": [
        {
          "output_type": "stream",
          "name": "stdout",
          "text": [
            "Class Test Score: 89\n",
            "Mid Term Score: 66\n",
            "Project Score: 88\n",
            "End Term Score: 19\n",
            "Evaluation Score (Rounded): 56\n"
          ]
        }
      ]
    },
    {
      "cell_type": "code",
      "source": [
        "#Task3:\n",
        "word1 = \"Python\"\n",
        "word2 = \"Anaconda\"\n",
        "\n",
        "# Converting both words to lowercase\n",
        "word1 = word1.lower()\n",
        "word2 = word2.lower()\n",
        "\n",
        "# Using set intersection for finding common letters\n",
        "common = set(word1) & set(word2)\n",
        "\n",
        "# Converting Result -> list & sorting it\n",
        "common = sorted(list(common))\n",
        "\n",
        "# Printing common letters\n",
        "print(common)\n",
        "word1 = \"Python\"\n",
        "word2 = \"Anaconda\"\n",
        "\n",
        "# Converting both words to lowercase\n",
        "word1 = word1.lower()\n",
        "word2 = word2.lower()\n",
        "\n",
        "# Use set intersection to find common letters\n",
        "common = set(word1) & set(word2)\n",
        "\n",
        "# Converting Result -> list & sorting it\n",
        "common = sorted(list(common))\n",
        "\n",
        "# Printing the common letters\n",
        "print(common)\n"
      ],
      "metadata": {
        "colab": {
          "base_uri": "https://localhost:8080/"
        },
        "id": "gaCLsV_i3b8W",
        "outputId": "2c2dbfff-3dcf-4727-9cf6-5efe2001204b"
      },
      "execution_count": 4,
      "outputs": [
        {
          "output_type": "stream",
          "name": "stdout",
          "text": [
            "['n', 'o']\n",
            "['n', 'o']\n"
          ]
        }
      ]
    },
    {
      "cell_type": "code",
      "source": [
        "#Task4:\n",
        "import random\n",
        "\n",
        "# Generating random score between 0 - 100\n",
        "score = random.randint(0, 100)\n",
        "\n",
        "# Grade determination based on score\n",
        "if score < 40:\n",
        "    grade = 'Grade F'\n",
        "elif 40 <= score < 60:\n",
        "    grade = 'Grade C'\n",
        "elif 60 <= score < 85:\n",
        "    grade = 'Grade B'\n",
        "else:\n",
        "    grade = 'Grade A'\n",
        "\n",
        "# Printing score & corresponding grade\n",
        "print(f\"Score: {score}\")\n",
        "print(grade)\n"
      ],
      "metadata": {
        "colab": {
          "base_uri": "https://localhost:8080/"
        },
        "id": "A2y1RUas4Ve-",
        "outputId": "bf3a812b-62ea-42f9-dae6-de8859fde27f"
      },
      "execution_count": 5,
      "outputs": [
        {
          "output_type": "stream",
          "name": "stdout",
          "text": [
            "Score: 7\n",
            "Grade F\n"
          ]
        }
      ]
    },
    {
      "cell_type": "code",
      "source": [
        "#Task5:\n",
        "import random\n",
        "\n",
        "# Generating random number between 1-99\n",
        "rno = random.randint(1, 99)\n",
        "\n",
        "# Initializing lists for even, odd, and prime numbers\n",
        "evno = []\n",
        "odno = []\n",
        "prino = []\n",
        "\n",
        "# Checking if a number is prime\n",
        "def is_prime(n):\n",
        "    if n <= 1:\n",
        "        return False\n",
        "    if n <= 3:\n",
        "        return True\n",
        "    if n % 2 == 0 or n % 3 == 0:\n",
        "        return False\n",
        "    i = 5\n",
        "    while i * i <= n:\n",
        "        if n % i == 0 or n % (i + 2) == 0:\n",
        "            return False\n",
        "        i += 6\n",
        "    return True\n",
        "\n",
        "# Generating lists of even, odd & prime numbers up to the random number\n",
        "for num in range(1, rno + 1):\n",
        "    if num % 2 == 0:\n",
        "        evno.append(num)\n",
        "    else:\n",
        "        odno.append(num)\n",
        "    if is_prime(num):\n",
        "        prino.append(num)\n",
        "\n",
        "# Printing the random number and the lists\n",
        "print(f\"The random number: {rno}\")\n",
        "print(f\"List of even numbers up to the random number: {evno}\")\n",
        "print(f\"List of odd numbers up to the random number: {odno}\")\n",
        "print(f\"List of prime numbers up to the random number: {prino}\")\n"
      ],
      "metadata": {
        "colab": {
          "base_uri": "https://localhost:8080/"
        },
        "id": "yp0F-SxH4wZe",
        "outputId": "481eb601-c366-4a34-8bb2-8bb1d55cfe4c"
      },
      "execution_count": 6,
      "outputs": [
        {
          "output_type": "stream",
          "name": "stdout",
          "text": [
            "The random number: 94\n",
            "List of even numbers up to the random number: [2, 4, 6, 8, 10, 12, 14, 16, 18, 20, 22, 24, 26, 28, 30, 32, 34, 36, 38, 40, 42, 44, 46, 48, 50, 52, 54, 56, 58, 60, 62, 64, 66, 68, 70, 72, 74, 76, 78, 80, 82, 84, 86, 88, 90, 92, 94]\n",
            "List of odd numbers up to the random number: [1, 3, 5, 7, 9, 11, 13, 15, 17, 19, 21, 23, 25, 27, 29, 31, 33, 35, 37, 39, 41, 43, 45, 47, 49, 51, 53, 55, 57, 59, 61, 63, 65, 67, 69, 71, 73, 75, 77, 79, 81, 83, 85, 87, 89, 91, 93]\n",
            "List of prime numbers up to the random number: [2, 3, 5, 7, 11, 13, 17, 19, 23, 29, 31, 37, 41, 43, 47, 53, 59, 61, 67, 71, 73, 79, 83, 89]\n"
          ]
        }
      ]
    },
    {
      "cell_type": "code",
      "source": [
        "#Task6:\n",
        "import random\n",
        "\n",
        "# Generating a random 4-digit number between 1000-9999\n",
        "rno = random.randint(1000, 9999)\n",
        "\n",
        "# Extracting each digit and its place value\n",
        "th = rno // 1000\n",
        "h = (rno // 100) % 10\n",
        "t = (rno // 10) % 10\n",
        "o = rno % 10\n",
        "\n",
        "# Printing each digit with its place value\n",
        "print(f\"Random 4-Digit Number: {rno}\")\n",
        "print(f\"Thousands Digit: {th}\")\n",
        "print(f\"Hundreds Digit: {h}\")\n",
        "print(f\"Tens Digit: {t}\")\n",
        "print(f\"Ones Digit: {o}\")\n"
      ],
      "metadata": {
        "colab": {
          "base_uri": "https://localhost:8080/"
        },
        "id": "QZDYZ0lU5gwZ",
        "outputId": "20958be3-d763-43e4-bc06-a641481407b9"
      },
      "execution_count": 7,
      "outputs": [
        {
          "output_type": "stream",
          "name": "stdout",
          "text": [
            "Random 4-Digit Number: 8957\n",
            "Thousands Digit: 8\n",
            "Hundreds Digit: 9\n",
            "Tens Digit: 5\n",
            "Ones Digit: 7\n"
          ]
        }
      ]
    },
    {
      "cell_type": "code",
      "source": [
        "#Task7:\n",
        "import random\n",
        "\n",
        "# Generating 5 random numbers between -9 & +9; storing them in a list\n",
        "rnos = [random.randint(-9, 9) for _ in range(5)]\n",
        "\n",
        "# Calculating sum of the random numbers\n",
        "ransum = sum(rnos)\n",
        "\n",
        "# Printing the list of random numbers and their sum\n",
        "print(f\"List of 5 Random Numbers: {rnos}\")\n",
        "print(f\"Sum of the Random Numbers: {ransum}\")\n"
      ],
      "metadata": {
        "colab": {
          "base_uri": "https://localhost:8080/"
        },
        "id": "yxA3Ll3l5-FW",
        "outputId": "b90beb1c-222f-40fe-d14c-245edd1a0258"
      },
      "execution_count": 9,
      "outputs": [
        {
          "output_type": "stream",
          "name": "stdout",
          "text": [
            "List of 5 Random Numbers: [9, 2, 0, 8, -2]\n",
            "Sum of the Random Numbers: 17\n"
          ]
        }
      ]
    },
    {
      "cell_type": "code",
      "source": [
        "#Task8:\n",
        "from datetime import datetime\n",
        "\n",
        "# I/P date in YYYY-MM-DD\n",
        "ipdate_str = input(\"Enter a date (YYYY-MM-DD): \")\n",
        "\n",
        "# Converting I/P string to datetime object\n",
        "ipdate = datetime.strptime(ipdate_str, \"%Y-%m-%d\")\n",
        "\n",
        "# Getting today's date\n",
        "today = datetime.today()\n",
        "\n",
        "# Calculating difference between the two dates\n",
        "diff = today - ipdate\n",
        "\n",
        "# Extracting years, months & days from the difference\n",
        "years = diff.days // 365\n",
        "months = (diff.days % 365) // 30\n",
        "days = (diff.days % 365) % 30\n",
        "\n",
        "# Print the result\n",
        "print(f\"Years: {years}\")\n",
        "print(f\"Months: {months}\")\n",
        "print(f\"Days: {days}\")\n"
      ],
      "metadata": {
        "colab": {
          "base_uri": "https://localhost:8080/"
        },
        "id": "dWtWygOU6eee",
        "outputId": "d3d48ab5-b62f-4d7d-fea5-236d53e486f6"
      },
      "execution_count": 10,
      "outputs": [
        {
          "output_type": "stream",
          "name": "stdout",
          "text": [
            "Enter a date (YYYY-MM-DD): 1897-11-29\n",
            "Years: 125\n",
            "Months: 9\n",
            "Days: 25\n"
          ]
        }
      ]
    },
    {
      "cell_type": "code",
      "source": [
        "#Task10:\n",
        "import random\n",
        "\n",
        "# Creating List A with 10 random letters\n",
        "alist = [chr(random.randint(65, 90)) for _ in range(10)]  # Generating uppercase letters (A-Z)\n",
        "\n",
        "# Creating a copy of List A as List B\n",
        "blist = list(alist)\n",
        "\n",
        "# Shuffling both List A & List B\n",
        "random.shuffle(alist)\n",
        "random.shuffle(blist)\n",
        "\n",
        "# Creating a list to store connections\n",
        "conns = []\n",
        "\n",
        "# Maping connections between elements in List A & List B\n",
        "for a, b in zip(alist, blist):\n",
        "    conns.append((a, b))\n",
        "\n",
        "# Finding connected paths\n",
        "def pathfinder(element):\n",
        "    pathconns = []\n",
        "    for a, b in conns:\n",
        "        if a == element:\n",
        "            pathconns.append(b)\n",
        "    return pathconns\n",
        "\n",
        "# Printing mapping & connected paths\n",
        "for element in alist:\n",
        "    pathconns = pathfinder(element)\n",
        "    print(f\"{element} is connected to: {', '.join(pathconns)}\")\n"
      ],
      "metadata": {
        "colab": {
          "base_uri": "https://localhost:8080/"
        },
        "id": "UDsrP2XD7hYd",
        "outputId": "def6aebf-9f38-480a-d847-07e05cf15aa1"
      },
      "execution_count": 11,
      "outputs": [
        {
          "output_type": "stream",
          "name": "stdout",
          "text": [
            "R is connected to: D\n",
            "D is connected to: C\n",
            "C is connected to: F, C\n",
            "Y is connected to: Z\n",
            "Q is connected to: U\n",
            "G is connected to: Q\n",
            "U is connected to: Y\n",
            "F is connected to: R\n",
            "Z is connected to: G\n",
            "C is connected to: F, C\n"
          ]
        }
      ]
    },
    {
      "cell_type": "code",
      "source": [
        "#Task9:\n",
        "\n",
        "#printing diamond pattern\n",
        "def pat(n):\n",
        "    for i in range(n):\n",
        "        print(\" \" * (n - i - 1) + \"* \" * (i + 1))\n",
        "    for i in range(n - 2, -1, -1):\n",
        "        print(\" \" * (n - i - 1) + \"* \" * (i + 1))\n",
        "\n",
        "size = 5  # Adjusting size as reqd.\n",
        "pat(size)"
      ],
      "metadata": {
        "colab": {
          "base_uri": "https://localhost:8080/"
        },
        "id": "lvEKahD78l5e",
        "outputId": "c3024562-6c30-41a0-ee91-df3de6a05d8d"
      },
      "execution_count": 12,
      "outputs": [
        {
          "output_type": "stream",
          "name": "stdout",
          "text": [
            "    * \n",
            "   * * \n",
            "  * * * \n",
            " * * * * \n",
            "* * * * * \n",
            " * * * * \n",
            "  * * * \n",
            "   * * \n",
            "    * \n"
          ]
        }
      ]
    }
  ]
}