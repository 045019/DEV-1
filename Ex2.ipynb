{
  "cells": [
    {
      "cell_type": "code",
      "execution_count": null,
      "metadata": {
        "colab": {
          "base_uri": "https://localhost:8080/"
        },
        "id": "amC1JeGkHQ8h",
        "outputId": "31124ce1-f370-4a32-b01c-4372d6134636"
      },
      "outputs": [
        {
          "output_type": "stream",
          "name": "stdout",
          "text": [
            "Solution: x = 3.0 , y = -2.0 , z = 1.0000000000000002\n"
          ]
        }
      ],
      "source": [
        "#Task1:\n",
        "\n",
        "import numpy as np\n",
        "\n",
        "# Converting given equations into an array; Eq1 : x + y + z = 2 | Eq2 : 6x - 4y + 5z = 31 | Eq3: 5x + 2y + 2z = 13\n",
        "\n",
        "#LHS of eq.\n",
        "lhs = np.array([[1, 1, 1],\n",
        "              [6, -4, 5],\n",
        "              [5, 2, 2]])\n",
        "\n",
        "# RHS of eq.\n",
        "rhs = np.array([2, 31, 13])\n",
        "\n",
        "# Solving the system of equations\n",
        "sol = np.linalg.solve(lhs, rhs)\n",
        "\n",
        "print(\"Solution: x =\", sol[0], \", y =\", sol[1], \", z =\", sol[2])\n"
      ]
    },
    {
      "cell_type": "code",
      "execution_count": null,
      "metadata": {
        "colab": {
          "base_uri": "https://localhost:8080/"
        },
        "id": "E8m-EkWDIAEw",
        "outputId": "9b7d1261-8510-4b72-dbc3-c60449c914ed"
      },
      "outputs": [
        {
          "output_type": "stream",
          "name": "stdout",
          "text": [
            "{'Name': ['ABC', 'DEF', 'GHI', 'JKL', 'MNO', 'PQR', 'STU'], 'Education': ['Graduate', 'Postgraduate', 'Postgraduate', 'Graduate', 'Graduate', 'Postgraduate', 'Graduate'], 'Gender': ['Male', 'Female', 'Male', 'Other', 'Female', 'Female', 'Male'], 'Age': [22, 27, 26, 23, 24, 30, 21]}\n"
          ]
        }
      ],
      "source": [
        "#Task2:\n",
        "\n",
        "# 2.1 Creating Employee Dictionary 'emp_dict' with initial information\n",
        "emp_dict = {\n",
        "    'Name': ['ABC', 'DEF', 'GHI', 'JKL', 'MNO', 'PQR', 'STU'],\n",
        "    'Education': ['Graduate', 'Postgraduate', 'Postgraduate', 'Graduate', 'Graduate', 'Postgraduate', 'Graduate'],\n",
        "    'Gender': ['Male', 'Female', 'Male', 'Other', 'Female', 'Female', 'Male']\n",
        "}\n",
        "\n",
        "# 2.2 Update=ing Employee Dictionary 'emp_dict' with Age information\n",
        "age = [22, 27, 26, 23, 24, 30, 21]\n",
        "emp_dict['Age'] = age\n",
        "\n",
        "# Printing updated 'emp_dict'\n",
        "print(emp_dict)"
      ]
    },
    {
      "cell_type": "code",
      "execution_count": null,
      "metadata": {
        "colab": {
          "base_uri": "https://localhost:8080/"
        },
        "id": "i0sF2-prIZ1o",
        "outputId": "03bb8b9a-f829-40a0-c2ae-255973e4500d"
      },
      "outputs": [
        {
          "output_type": "stream",
          "name": "stdout",
          "text": [
            "  Name     Education  Gender  Age  Salary_Lakhs  Bonus%  Gross_Salary_Lakhs\n",
            "0  ABC      Graduate    Male   22             6   12.50              6.7500\n",
            "1  DEF  Postgraduate  Female   27            15    8.75             16.3125\n",
            "2  GHI  Postgraduate    Male   26            20    6.25             21.2500\n",
            "3  JKL      Graduate   Other   23             5   10.20              5.5100\n",
            "4  MNO      Graduate  Female   24            10   13.60             11.3600\n",
            "5  PQR  Postgraduate  Female   30            18   11.40             20.0520\n",
            "6  STU      Graduate    Male   21            12    9.80             13.1760\n",
            "7  VWX  Postgraduate    Male   35            14    5.50             14.7700\n",
            "8  YZA      Graduate  Female   28             7    7.75              7.5425\n",
            "9  BCD  Postgraduate   Other   32             8   14.80              9.1840\n"
          ]
        },
        {
          "output_type": "stream",
          "name": "stderr",
          "text": [
            "<ipython-input-20-fb5f8b169620>:32: FutureWarning: The frame.append method is deprecated and will be removed from pandas in a future version. Use pandas.concat instead.\n",
            "  emp_df = emp_df.append(pd.DataFrame(new_data), ignore_index=True)\n"
          ]
        }
      ],
      "source": [
        "#Task3:\n",
        "\n",
        "import pandas as pd\n",
        "\n",
        "# 3.1 Creating the DataFrame 'emp_df' from the Dictionary 'emp_dict'\n",
        "emp_dict = {\n",
        "    'Name': ['ABC', 'DEF', 'GHI', 'JKL', 'MNO', 'PQR', 'STU'],\n",
        "    'Education': ['Graduate', 'Postgraduate', 'Postgraduate', 'Graduate', 'Graduate', 'Postgraduate', 'Graduate'],\n",
        "    'Gender': ['Male', 'Female', 'Male', 'Other', 'Female', 'Female', 'Male'],\n",
        "    'Age': [22, 27, 26, 23, 24, 30, 21]\n",
        "}\n",
        "\n",
        "emp_df = pd.DataFrame(emp_dict)\n",
        "\n",
        "# 3.2 Updating the DataFrame 'emp_df' with Salary_Lakhs and Bonus% information\n",
        "salary_lakhs = [6, 15, 20, 5, 10, 18, 12]\n",
        "bonus_per = [12.50, 8.75, 6.25, 10.20, 13.60, 11.40, 9.80]\n",
        "\n",
        "emp_df['Salary_Lakhs'] = salary_lakhs\n",
        "emp_df['Bonus%'] = bonus_per\n",
        "\n",
        "# 3.3 Updating the DataFrame 'emp_df' with additional information\n",
        "new_data = {\n",
        "    'Name': ['VWX', 'YZA', 'BCD'],\n",
        "    'Education': ['Postgraduate', 'Graduate', 'Postgraduate'],\n",
        "    'Gender': ['Male', 'Female', 'Other'],\n",
        "    'Age': [35, 28, 32],\n",
        "    'Salary_Lakhs': [14, 7, 8],\n",
        "    'Bonus%': [5.50, 7.75, 14.80]\n",
        "}\n",
        "\n",
        "emp_df = emp_df.append(pd.DataFrame(new_data), ignore_index=True)\n",
        "\n",
        "# 3.4 Creating a Column 'Gross_Salary_Lakhs' using the formula\n",
        "emp_df['Gross_Salary_Lakhs'] = emp_df['Salary_Lakhs'] * (1 + emp_df['Bonus%'] / 100)\n",
        "\n",
        "# Printing the updated 'emp_df'\n",
        "print(emp_df)\n",
        "\n"
      ]
    },
    {
      "cell_type": "code",
      "source": [
        "#Task4:\n",
        "\n",
        "import pandas as pd\n",
        "\n",
        "# Creating the subset emp_df_ss\n",
        "emp_df_ss = emp_df[['Name', 'Age', 'Gross_Salary_Lakhs']]\n",
        "\n",
        "# Printing the subset\n",
        "print(emp_df_ss)"
      ],
      "metadata": {
        "colab": {
          "base_uri": "https://localhost:8080/"
        },
        "id": "QK2hAwXwLywT",
        "outputId": "b40c383b-fed5-45e9-d12f-8283bd43576e"
      },
      "execution_count": null,
      "outputs": [
        {
          "output_type": "stream",
          "name": "stdout",
          "text": [
            "  Name  Age  Gross_Salary_Lakhs\n",
            "0  ABC   22              6.7500\n",
            "1  DEF   27             16.3125\n",
            "2  GHI   26             21.2500\n",
            "3  JKL   23              5.5100\n",
            "4  MNO   24             11.3600\n",
            "5  PQR   30             20.0520\n",
            "6  STU   21             13.1760\n",
            "7  VWX   35             14.7700\n",
            "8  YZA   28              7.5425\n",
            "9  BCD   32              9.1840\n"
          ]
        }
      ]
    },
    {
      "cell_type": "code",
      "execution_count": null,
      "metadata": {
        "colab": {
          "base_uri": "https://localhost:8080/"
        },
        "id": "WbUYpbtDIw0N",
        "outputId": "4c37662b-d5f5-48e4-d6dc-6ff4801ea194"
      },
      "outputs": [
        {
          "output_type": "stream",
          "name": "stdout",
          "text": [
            "Sorted by Age (Highest -> Lowest):\n",
            "  Name     Education  Gender  Age  Salary_Lakhs  Bonus%  Gross_Salary_Lakhs\n",
            "7  VWX  Postgraduate    Male   35            14    5.50             14.7700\n",
            "9  BCD  Postgraduate   Other   32             8   14.80              9.1840\n",
            "5  PQR  Postgraduate  Female   30            18   11.40             20.0520\n",
            "8  YZA      Graduate  Female   28             7    7.75              7.5425\n",
            "1  DEF  Postgraduate  Female   27            15    8.75             16.3125\n",
            "2  GHI  Postgraduate    Male   26            20    6.25             21.2500\n",
            "4  MNO      Graduate  Female   24            10   13.60             11.3600\n",
            "3  JKL      Graduate   Other   23             5   10.20              5.5100\n",
            "0  ABC      Graduate    Male   22             6   12.50              6.7500\n",
            "6  STU      Graduate    Male   21            12    9.80             13.1760\n",
            "\n",
            "Sorted by Age (Lowest -> Highest) & Gross_Salary_Lakhs (Highest -> Lowest):\n",
            "  Name     Education  Gender  Age  Salary_Lakhs  Bonus%  Gross_Salary_Lakhs\n",
            "6  STU      Graduate    Male   21            12    9.80             13.1760\n",
            "0  ABC      Graduate    Male   22             6   12.50              6.7500\n",
            "3  JKL      Graduate   Other   23             5   10.20              5.5100\n",
            "4  MNO      Graduate  Female   24            10   13.60             11.3600\n",
            "2  GHI  Postgraduate    Male   26            20    6.25             21.2500\n",
            "1  DEF  Postgraduate  Female   27            15    8.75             16.3125\n",
            "8  YZA      Graduate  Female   28             7    7.75              7.5425\n",
            "5  PQR  Postgraduate  Female   30            18   11.40             20.0520\n",
            "9  BCD  Postgraduate   Other   32             8   14.80              9.1840\n",
            "7  VWX  Postgraduate    Male   35            14    5.50             14.7700\n"
          ]
        }
      ],
      "source": [
        "#Task5:\n",
        "\n",
        "# 5.1 Creating a Copy of 'emp_df' Named as 'emp_df_age_sorted' & Sort by 'Age' (Highest -> Lowest)\n",
        "emp_df_age_sorted = emp_df.copy()\n",
        "emp_df_age_sorted = emp_df_age_sorted.sort_values(by='Age', ascending=False)\n",
        "\n",
        "# 5.2 Creating a Copy of 'emp_df' Named as 'emp_df_age_salary_sorted' &  Sort by 'Age' (Lowest -> Highest) & 'Gross_Salary_Lakhs' (Highest -> Lowest)\n",
        "emp_df_age_salary_sorted = emp_df.copy()\n",
        "emp_df_age_salary_sorted = emp_df_age_salary_sorted.sort_values(by=['Age', 'Gross_Salary_Lakhs'], ascending=[True, False])\n",
        "\n",
        "# Printing the sorted DataFrames\n",
        "print(\"Sorted by Age (Highest -> Lowest):\")\n",
        "print(emp_df_age_sorted)\n",
        "\n",
        "print(\"\\nSorted by Age (Lowest -> Highest) & Gross_Salary_Lakhs (Highest -> Lowest):\")\n",
        "print(emp_df_age_salary_sorted)\n",
        "\n"
      ]
    },
    {
      "cell_type": "code",
      "execution_count": null,
      "metadata": {
        "colab": {
          "base_uri": "https://localhost:8080/"
        },
        "id": "9wVmbLeqJ_tv",
        "outputId": "cc1022ee-05c0-451f-921b-f268d148b8b5"
      },
      "outputs": [
        {
          "output_type": "stream",
          "name": "stdout",
          "text": [
            "Filtered DataFrame (Age >= 25 and Gender = Female):\n",
            "  Name     Education  Gender  Age  Salary_Lakhs  Bonus%  Gross_Salary_Lakhs\n",
            "1  DEF  Postgraduate  Female   27            15    8.75             16.3125\n",
            "5  PQR  Postgraduate  Female   30            18   11.40             20.0520\n",
            "8  YZA      Graduate  Female   28             7    7.75              7.5425\n",
            "\n",
            "Subset 'emp_df_grad' (Education == Graduate):\n",
            "  Name Education  Gender  Age  Salary_Lakhs  Bonus%  Gross_Salary_Lakhs\n",
            "0  ABC  Graduate    Male   22             6   12.50              6.7500\n",
            "3  JKL  Graduate   Other   23             5   10.20              5.5100\n",
            "4  MNO  Graduate  Female   24            10   13.60             11.3600\n",
            "6  STU  Graduate    Male   21            12    9.80             13.1760\n",
            "8  YZA  Graduate  Female   28             7    7.75              7.5425\n",
            "\n",
            "Subset 'emp_df_postgrad' (Education == Postgraduate):\n",
            "  Name     Education  Gender  Age  Salary_Lakhs  Bonus%  Gross_Salary_Lakhs\n",
            "1  DEF  Postgraduate  Female   27            15    8.75             16.3125\n",
            "2  GHI  Postgraduate    Male   26            20    6.25             21.2500\n",
            "5  PQR  Postgraduate  Female   30            18   11.40             20.0520\n",
            "7  VWX  Postgraduate    Male   35            14    5.50             14.7700\n",
            "9  BCD  Postgraduate   Other   32             8   14.80              9.1840\n"
          ]
        }
      ],
      "source": [
        "#Task6:\n",
        "\n",
        "# 6.1 Creating a DataFrame 'emp_df_filtered' by filtering 'emp_df' based on 'Age' >= 25 and 'Gender' == 'Female'\n",
        "emp_df_filtered = emp_df[(emp_df['Age'] >= 25) & (emp_df['Gender'] == 'Female')]\n",
        "\n",
        "# 6.2 Creating subsets 'emp_df_grad' and 'emp_df_postgrad'\n",
        "emp_df_grad = emp_df[emp_df['Education'] == 'Graduate']\n",
        "emp_df_postgrad = emp_df[emp_df['Education'] == 'Postgraduate']\n",
        "\n",
        "# Printing filtered DataFrame and subsets\n",
        "print(\"Filtered DataFrame (Age >= 25 and Gender = Female):\")\n",
        "print(emp_df_filtered)\n",
        "\n",
        "print(\"\\nSubset 'emp_df_grad' (Education == Graduate):\")\n",
        "print(emp_df_grad)\n",
        "\n",
        "print(\"\\nSubset 'emp_df_postgrad' (Education == Postgraduate):\")\n",
        "print(emp_df_postgrad)"
      ]
    },
    {
      "cell_type": "code",
      "execution_count": null,
      "metadata": {
        "colab": {
          "base_uri": "https://localhost:8080/"
        },
        "id": "HsuxIrU8KgRd",
        "outputId": "22e73eec-48b2-4c31-c913-99f9c8372f65"
      },
      "outputs": [
        {
          "output_type": "stream",
          "name": "stdout",
          "text": [
            "  Name_x  Gender  Age Name_y  Gross_Salary_Lakhs\n",
            "0    ABC    Male   22    GHI             21.2500\n",
            "1    ABC    Male   22    VWX             14.7700\n",
            "2    STU    Male   21    GHI             21.2500\n",
            "3    STU    Male   21    VWX             14.7700\n",
            "4    JKL   Other   23    BCD              9.1840\n",
            "5    MNO  Female   24    DEF             16.3125\n",
            "6    MNO  Female   24    PQR             20.0520\n",
            "7    YZA  Female   28    DEF             16.3125\n",
            "8    YZA  Female   28    PQR             20.0520\n"
          ]
        }
      ],
      "source": [
        "#Task7:\n",
        "\n",
        "# 7.1 Inner Merge 'emp_df_grad' and 'emp_df_postgrad' on 'Gender' with selected variables\n",
        "emp_df_merged = pd.merge(emp_df_grad[['Name', 'Gender', 'Age']],\n",
        "                         emp_df_postgrad[['Name', 'Gender', 'Gross_Salary_Lakhs']],\n",
        "                         on='Gender',\n",
        "                         how='inner')\n",
        "\n",
        "# Printing merged DataFrame 'emp_df_merged'\n",
        "print(emp_df_merged)"
      ]
    },
    {
      "cell_type": "code",
      "source": [
        "#Task8:\n",
        "\n",
        "# 8.1 Group 'emp_df' by 'Gender' and 'Education' and count employees\n",
        "emp_df_gen_edu = emp_df.groupby(['Gender', 'Education']).size().reset_index(name='Count')\n",
        "\n",
        "# 8.2 Group 'emp_df' by 'Gender' and calculate the average of 'Age' and 'Gross_Salary_Lakhs'\n",
        "emp_df_gen_age_sal = emp_df.groupby('Gender').agg({'Age': 'mean', 'Gross_Salary_Lakhs': 'mean'}).reset_index()\n",
        "\n",
        "# Printing the grouped tables\n",
        "print(\"Table 'emp_df_gen_edu' (Count of Employees by Gender and Education):\")\n",
        "print(emp_df_gen_edu)\n",
        "\n",
        "print(\"\\nTable 'emp_df_gen_age_sal' (Average Age and Gross_Salary_Lakhs by Gender):\")\n",
        "print(emp_df_gen_age_sal)"
      ],
      "metadata": {
        "colab": {
          "base_uri": "https://localhost:8080/"
        },
        "id": "MhBh8XOLLgDk",
        "outputId": "d2d70704-4d67-4ed0-eb08-f9ef60b5fa64"
      },
      "execution_count": null,
      "outputs": [
        {
          "output_type": "stream",
          "name": "stdout",
          "text": [
            "Table 'emp_df_gen_edu' (Count of Employees by Gender and Education):\n",
            "   Gender     Education  Count\n",
            "0  Female      Graduate      2\n",
            "1  Female  Postgraduate      2\n",
            "2    Male      Graduate      2\n",
            "3    Male  Postgraduate      2\n",
            "4   Other      Graduate      1\n",
            "5   Other  Postgraduate      1\n",
            "\n",
            "Table 'emp_df_gen_age_sal' (Average Age and Gross_Salary_Lakhs by Gender):\n",
            "   Gender    Age  Gross_Salary_Lakhs\n",
            "0  Female  27.25            13.81675\n",
            "1    Male  26.00            13.98650\n",
            "2   Other  27.50             7.34700\n"
          ]
        }
      ]
    },
    {
      "cell_type": "code",
      "source": [
        "#Task9:\n",
        "\n",
        "import pandas as pd\n",
        "\n",
        "# Creating the cross-sectional dataframe 'df_cross_section'\n",
        "data = {\n",
        "    'Company': ['ZYX', 'WVU', 'TSR'],\n",
        "    '2023': [123, 456, 789],\n",
        "    '2024': [321, 654, 987]\n",
        "}\n",
        "\n",
        "df_cross_section = pd.DataFrame(data)\n",
        "\n",
        "# Cross-sectional dataframe -> panel dataframe\n",
        "df_panel = pd.melt(df_cross_section, id_vars=['Company'], var_name='Year', value_name='Profit')\n",
        "\n",
        "# Sorting panel dataframe by 'Company' and 'Year'\n",
        "df_panel = df_panel.sort_values(by=['Company', 'Year'])\n",
        "\n",
        "# Reseting the index\n",
        "df_panel = df_panel.reset_index(drop=True)\n",
        "\n",
        "# Printing the panel dataframe\n",
        "print(df_panel)"
      ],
      "metadata": {
        "colab": {
          "base_uri": "https://localhost:8080/"
        },
        "id": "LZ_UdCNYLml7",
        "outputId": "a351ca7a-93bc-4319-9a8f-7f04adf12807"
      },
      "execution_count": null,
      "outputs": [
        {
          "output_type": "stream",
          "name": "stdout",
          "text": [
            "  Company  Year  Profit\n",
            "0     TSR  2023     789\n",
            "1     TSR  2024     987\n",
            "2     WVU  2023     456\n",
            "3     WVU  2024     654\n",
            "4     ZYX  2023     123\n",
            "5     ZYX  2024     321\n"
          ]
        }
      ]
    }
  ],
  "metadata": {
    "colab": {
      "provenance": []
    },
    "kernelspec": {
      "display_name": "Python 3",
      "name": "python3"
    },
    "language_info": {
      "name": "python"
    }
  },
  "nbformat": 4,
  "nbformat_minor": 0
}